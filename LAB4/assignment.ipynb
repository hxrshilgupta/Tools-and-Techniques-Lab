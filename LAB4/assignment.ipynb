{
 "cells": [
  {
   "cell_type": "markdown",
   "metadata": {},
   "source": [
    "# LAB 4 Assignment Questions"
   ]
  },
  {
   "cell_type": "markdown",
   "metadata": {},
   "source": [
    "#### 1.WAP to calculate the sum of numbers (10 numbers max),If the user enters a negative number, the loop terminates."
   ]
  },
  {
   "cell_type": "code",
   "execution_count": null,
   "metadata": {},
   "outputs": [],
   "source": [
    "def calculate_sum():\n",
    "    numbers = []\n",
    "    for i in range(10):\n",
    "        num = int(input(\"Enter a number: \"))\n",
    "        if num < 0:\n",
    "            break\n",
    "        numbers.append(num)\n",
    "    return sum(numbers)\n",
    "\n",
    "result = calculate_sum()\n",
    "print(\"Sum of the numbers:\", result)"
   ]
  },
  {
   "cell_type": "markdown",
   "metadata": {},
   "source": [
    "#### 2. WAP to calculate the sum of numbers (10 numbers max),If the user enters a negative number, it's not added to the result."
   ]
  },
  {
   "cell_type": "code",
   "execution_count": 7,
   "metadata": {},
   "outputs": [
    {
     "name": "stdout",
     "output_type": "stream",
     "text": [
      "Sum of the numbers: 31\n"
     ]
    }
   ],
   "source": [
    "def calculate_sum():\n",
    "    numbers = []\n",
    "    for i in range(10):\n",
    "        num = int(input(\"Enter a number: \"))\n",
    "        if num < 0:\n",
    "            continue\n",
    "        numbers.append(num)\n",
    "    return sum(numbers)\n",
    "\n",
    "result = calculate_sum()\n",
    "print(\"Sum of the numbers:\", result)\n"
   ]
  },
  {
   "cell_type": "markdown",
   "metadata": {},
   "source": [
    "#### 3.Python program to display all numbers within a range except the prime numbers."
   ]
  },
  {
   "cell_type": "code",
   "execution_count": 8,
   "metadata": {},
   "outputs": [
    {
     "name": "stdout",
     "output_type": "stream",
     "text": [
      "1\n",
      "4\n",
      "6\n",
      "8\n",
      "9\n",
      "10\n",
      "12\n",
      "14\n",
      "15\n",
      "16\n",
      "18\n",
      "20\n"
     ]
    }
   ],
   "source": [
    "def is_prime(num):\n",
    "    if num < 2:\n",
    "        return False\n",
    "    for i in range(2, int(num ** 0.5) + 1):\n",
    "        if num % i == 0:\n",
    "            return False\n",
    "    return True\n",
    "\n",
    "def display_numbers_except_primes(start, end):\n",
    "    for num in range(start, end+1):\n",
    "        if not is_prime(num):\n",
    "            print(num)\n",
    "\n",
    "# Example usage\n",
    "display_numbers_except_primes(1, 20)"
   ]
  },
  {
   "cell_type": "markdown",
   "metadata": {},
   "source": [
    "#### 4.Find the common elements in two lists using a for loop"
   ]
  },
  {
   "cell_type": "code",
   "execution_count": 10,
   "metadata": {},
   "outputs": [
    {
     "name": "stdout",
     "output_type": "stream",
     "text": [
      "Common elements: ['2', '3', '4']\n"
     ]
    }
   ],
   "source": [
    "def find_common_elements():\n",
    "    list1 = input(\"Enter elements of the first list separated by space: \").split()\n",
    "    list2 = input(\"Enter elements of the second list separated by space: \").split()\n",
    "    \n",
    "    common_elements = []\n",
    "    for element in list1:\n",
    "        if element in list2:\n",
    "            common_elements.append(element)\n",
    "    \n",
    "    return common_elements\n",
    "\n",
    "common_elements = find_common_elements()\n",
    "print(\"Common elements:\", common_elements)\n"
   ]
  },
  {
   "cell_type": "markdown",
   "metadata": {},
   "source": [
    "#### 5.Print numbers from 1 to 10. If a number is divisible by 4, stop the loop using a for loop and break statement."
   ]
  },
  {
   "cell_type": "code",
   "execution_count": 11,
   "metadata": {},
   "outputs": [
    {
     "name": "stdout",
     "output_type": "stream",
     "text": [
      "1\n",
      "2\n",
      "3\n",
      "4\n"
     ]
    }
   ],
   "source": [
    "def print_numbers():\n",
    "    for num in range(1, 11):\n",
    "        print(num)\n",
    "        if num % 4 == 0:\n",
    "            break\n",
    "\n",
    "print_numbers()\n"
   ]
  },
  {
   "cell_type": "markdown",
   "metadata": {},
   "source": [
    "#### 6.Write a Python function that takes a list and returns a new list with distinct elements from the first list."
   ]
  },
  {
   "cell_type": "code",
   "execution_count": null,
   "metadata": {},
   "outputs": [],
   "source": [
    "def get_distinct_elements(input_list):\n",
    "    distinct_list = []\n",
    "    for element in input_list:\n",
    "        if element not in distinct_list:\n",
    "            distinct_list.append(element)\n",
    "    return distinct_list\n",
    "\n",
    "# Example usage\n",
    "input_list = input(\"Enter elements of the list separated by space: \").split()\n",
    "distinct_list = get_distinct_elements(input_list)\n",
    "print(\"Distinct elements:\", distinct_list)\n"
   ]
  },
  {
   "cell_type": "markdown",
   "metadata": {},
   "source": [
    "#### 7.Write a Python function to check whether a number is &quot;Perfect&quot; or not."
   ]
  },
  {
   "cell_type": "code",
   "execution_count": null,
   "metadata": {},
   "outputs": [],
   "source": [
    "def is_perfect_number(num):\n",
    "    # Calculate the sum of proper divisors\n",
    "    divisors_sum = sum([i for i in range(1, num) if num % i == 0])\n",
    "\n",
    "    # Check if the sum of proper divisors is equal to the number\n",
    "    if divisors_sum == num:\n",
    "        return True\n",
    "    else:\n",
    "        return False\n"
   ]
  },
  {
   "cell_type": "markdown",
   "metadata": {},
   "source": [
    "#### 8. "
   ]
  },
  {
   "cell_type": "code",
   "execution_count": null,
   "metadata": {},
   "outputs": [],
   "source": [
    "def find_prime_factors(num):\n",
    "    factors = []\n",
    "    divisor = 2\n",
    "\n",
    "    while divisor <= num:\n",
    "        if num % divisor == 0:\n",
    "            factors.append(divisor)\n",
    "            num = num / divisor\n",
    "        else:\n",
    "            divisor += 1\n",
    "\n",
    "    return factors\n",
    "\n",
    "# Example usage\n",
    "number = int(input(\"Enter a number: \"))\n",
    "prime_factors = find_prime_factors(number)\n",
    "print(\"Prime factors of\", number, \"are:\", prime_factors)\n"
   ]
  },
  {
   "cell_type": "code",
   "execution_count": 12,
   "metadata": {},
   "outputs": [
    {
     "name": "stdout",
     "output_type": "stream",
     "text": [
      "Binary: 1100110\n"
     ]
    }
   ],
   "source": [
    "def decimal_to_binary(decimal):\n",
    "    binary = bin(decimal)[2:]  # Convert decimal to binary and remove the '0b' prefix\n",
    "    return binary\n",
    "\n",
    "# Take input from the user\n",
    "decimal = int(input(\"Enter a decimal number: \"))\n",
    "\n",
    "# Convert decimal to binary using the function\n",
    "binary = decimal_to_binary(decimal)\n",
    "\n",
    "# Print the binary representation\n",
    "print(\"Binary:\", binary)\n"
   ]
  },
  {
   "cell_type": "code",
   "execution_count": 16,
   "metadata": {},
   "outputs": [
    {
     "name": "stdout",
     "output_type": "stream",
     "text": [
      "Sum of the cubes of individual digits: 27\n"
     ]
    }
   ],
   "source": [
    "def cubesum(num):\n",
    "    digit_sum = 0\n",
    "    for digit in str(num):\n",
    "        digit_sum += int(digit) ** 3\n",
    "    return digit_sum\n",
    "\n",
    "# Example usage\n",
    "number = int(input(\"Enter a number: \"))\n",
    "result = cubesum(number)\n",
    "print(\"Sum of the cubes of individual digits:\", result)\n"
   ]
  },
  {
   "cell_type": "code",
   "execution_count": null,
   "metadata": {},
   "outputs": [],
   "source": [
    "def sumPdivisors(num):\n",
    "    divisors_sum = sum([i for i in range(1, num) if num % i == 0])\n",
    "    return divisors_sum\n",
    "\n",
    "# Example usage\n",
    "number = int(input(\"Enter a number: \"))\n",
    "result = sumPdivisors(number)\n",
    "print(\"Sum of proper divisors:\", result)\n"
   ]
  },
  {
   "cell_type": "code",
   "execution_count": 17,
   "metadata": {},
   "outputs": [
    {
     "name": "stdout",
     "output_type": "stream",
     "text": [
      "12 x 1 = 12\n",
      "12 x 2 = 24\n",
      "12 x 3 = 36\n",
      "12 x 4 = 48\n",
      "12 x 5 = 60\n",
      "12 x 6 = 72\n",
      "12 x 7 = 84\n",
      "12 x 8 = 96\n",
      "12 x 9 = 108\n",
      "12 x 10 = 120\n"
     ]
    }
   ],
   "source": [
    "def print_multiplication_table(number, table_number):\n",
    "    if number > 10:\n",
    "        return\n",
    "    print(f\"{table_number} x {number} = {table_number * number}\")\n",
    "    print_multiplication_table(number + 1, table_number)\n",
    "\n",
    "# Example usage\n",
    "table_number = 12\n",
    "print_multiplication_table(1, table_number)\n"
   ]
  },
  {
   "cell_type": "code",
   "execution_count": 19,
   "metadata": {},
   "outputs": [
    {
     "data": {
      "text/plain": [
       "32"
      ]
     },
     "execution_count": 19,
     "metadata": {},
     "output_type": "execute_result"
    }
   ],
   "source": [
    "def power(base, exponent):\n",
    "    if exponent == 0:\n",
    "        return 1\n",
    "    elif exponent < 0:\n",
    "        return 1 / power(base, -exponent)\n",
    "    else:\n",
    "        return base * power(base, exponent - 1)\n",
    "    \n",
    "power(2,5)\n"
   ]
  },
  {
   "cell_type": "code",
   "execution_count": 21,
   "metadata": {},
   "outputs": [
    {
     "name": "stdout",
     "output_type": "stream",
     "text": [
      "Perfect numbers between 1 and 1000: [6, 28, 496]\n"
     ]
    }
   ],
   "source": [
    "def perfect(number):\n",
    "    divisors_sum = sum([i for i in range(1, number) if number % i == 0])\n",
    "    if divisors_sum == number:\n",
    "        return True\n",
    "    else:\n",
    "        return False\n",
    "\n",
    "perfect_numbers = []\n",
    "for num in range(1, 1001):\n",
    "    if perfect(num):\n",
    "        perfect_numbers.append(num)\n",
    "\n",
    "print(\"Perfect numbers between 1 and 1000:\", perfect_numbers)\n"
   ]
  }
 ],
 "metadata": {
  "kernelspec": {
   "display_name": "base",
   "language": "python",
   "name": "python3"
  },
  "language_info": {
   "codemirror_mode": {
    "name": "ipython",
    "version": 3
   },
   "file_extension": ".py",
   "mimetype": "text/x-python",
   "name": "python",
   "nbconvert_exporter": "python",
   "pygments_lexer": "ipython3",
   "version": "3.11.5"
  }
 },
 "nbformat": 4,
 "nbformat_minor": 2
}
