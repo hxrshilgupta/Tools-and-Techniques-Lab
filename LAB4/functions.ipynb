{
 "cells": [
  {
   "cell_type": "markdown",
   "metadata": {},
   "source": [
    "# Examples"
   ]
  },
  {
   "cell_type": "code",
   "execution_count": 1,
   "metadata": {},
   "outputs": [
    {
     "name": "stdout",
     "output_type": "stream",
     "text": [
      "The Sum of a and b is 30\n",
      "The difference of a and b is 10\n",
      "The product of a and b is 200\n"
     ]
    }
   ],
   "source": [
    "a = 20\n",
    "b = 10\n",
    "print ('The Sum of a and b is', a+b)\n",
    "print ('The difference of a and b is', a-b)\n",
    "print('The product of a and b is', a*b)"
   ]
  },
  {
   "cell_type": "code",
   "execution_count": 2,
   "metadata": {},
   "outputs": [
    {
     "name": "stdout",
     "output_type": "stream",
     "text": [
      "The Sum :  30\n",
      "The Difference :  10\n",
      "The Product :  200\n",
      "The Sum :  300\n",
      "The Difference :  100\n",
      "The Product :  20000\n"
     ]
    }
   ],
   "source": [
    "a = 20\n",
    "b = 10\n",
    "print('The Sum : ', a + b)\n",
    "print('The Difference : ', a - b)\n",
    "print('The Product : ', a * b)\n",
    "a = 200\n",
    "b = 100\n",
    "print('The Sum : ', a + b)\n",
    "print('The Difference : ', a - b)\n",
    "print('The Product : ', a * b)"
   ]
  },
  {
   "cell_type": "code",
   "execution_count": null,
   "metadata": {},
   "outputs": [],
   "source": []
  }
 ],
 "metadata": {
  "kernelspec": {
   "display_name": "base",
   "language": "python",
   "name": "python3"
  },
  "language_info": {
   "codemirror_mode": {
    "name": "ipython",
    "version": 3
   },
   "file_extension": ".py",
   "mimetype": "text/x-python",
   "name": "python",
   "nbconvert_exporter": "python",
   "pygments_lexer": "ipython3",
   "version": "3.11.5"
  }
 },
 "nbformat": 4,
 "nbformat_minor": 2
}
