{
 "cells": [
  {
   "cell_type": "markdown",
   "metadata": {},
   "source": [
    "# LAB 5 Assignment"
   ]
  },
  {
   "cell_type": "markdown",
   "metadata": {},
   "source": [
    "### 1. WAP in python that uses class to store the name and marks of the students. Use list to store the marks in three subjects."
   ]
  },
  {
   "cell_type": "code",
   "execution_count": 7,
   "metadata": {},
   "outputs": [
    {
     "name": "stdout",
     "output_type": "stream",
     "text": [
      "Student: Harshil\n",
      "Subject 1: 100.0\n",
      "Subject 2: 99.0\n",
      "Subject 3: 93.0\n"
     ]
    }
   ],
   "source": [
    "class Student:\n",
    "    def __init__(self, name):\n",
    "        self.name = name\n",
    "        self.marks = []\n",
    "\n",
    "    def add_marks(self, subject, marks):\n",
    "        self.marks.append((subject, marks))\n",
    "\n",
    "    def display_marks(self):\n",
    "        print(f\"Student: {self.name}\")\n",
    "        for subject, marks in self.marks:\n",
    "            print(f\"{subject}: {marks}\")\n",
    "\n",
    "# Create a list to store student objects\n",
    "students = []\n",
    "\n",
    "# Get the number of students from user\n",
    "num_students = int(input(\"Enter the number of students: \"))\n",
    "\n",
    "# Get the details of each student from user\n",
    "for i in range(num_students):\n",
    "    name = input(f\"Enter the name of student {i+1}: \")\n",
    "    student = Student(name)\n",
    "\n",
    "    # Get the marks for three subjects from user\n",
    "    for subject in ['Subject 1', 'Subject 2', 'Subject 3']:\n",
    "        marks = float(input(f\"Enter the marks for {subject}: \"))\n",
    "        student.add_marks(subject, marks)\n",
    "\n",
    "    students.append(student)\n",
    "\n",
    "# Display the marks of all students\n",
    "for student in students:\n",
    "    student.display_marks()\n"
   ]
  },
  {
   "cell_type": "markdown",
   "metadata": {},
   "source": [
    "### 2) WAP in python with class Employee that keeps a track of the number of employees in an organization and also stores their name, designation and salary details."
   ]
  },
  {
   "cell_type": "code",
   "execution_count": 9,
   "metadata": {},
   "outputs": [
    {
     "name": "stdout",
     "output_type": "stream",
     "text": [
      "Employee Name: Harshil\n",
      "Designation: Growth Lead\n",
      "Salary: 100000.0\n",
      "Employee Name: Eshita\n",
      "Designation: CEO\n",
      "Salary: 200000.0\n",
      "Total number of employees: 2\n"
     ]
    }
   ],
   "source": [
    "class Employee:\n",
    "    num_employees = 0\n",
    "\n",
    "    def __init__(self, name, designation, salary):\n",
    "        self.name = name\n",
    "        self.designation = designation\n",
    "        self.salary = salary\n",
    "        Employee.num_employees += 1\n",
    "\n",
    "    def display_details(self):\n",
    "        print(f\"Employee Name: {self.name}\")\n",
    "        print(f\"Designation: {self.designation}\")\n",
    "        print(f\"Salary: {self.salary}\")\n",
    "\n",
    "# Create a list to store employee objects\n",
    "employees = []\n",
    "\n",
    "# Get the number of employees from user\n",
    "num_employees = int(input(\"Enter the number of employees: \"))\n",
    "\n",
    "# Get the details of each employee from user\n",
    "for i in range(num_employees):\n",
    "    name = input(f\"Enter the name of employee {i+1}: \")\n",
    "    designation = input(f\"Enter the designation of employee {i+1}: \")\n",
    "    salary = float(input(f\"Enter the salary of employee {i+1}: \"))\n",
    "\n",
    "    employee = Employee(name, designation, salary)\n",
    "    employees.append(employee)\n",
    "\n",
    "# Display the details of all employees\n",
    "for employee in employees:\n",
    "    employee.display_details()\n",
    "\n",
    "# Display the total number of employees\n",
    "print(f\"Total number of employees: {Employee.num_employees}\")\n"
   ]
  },
  {
   "cell_type": "markdown",
   "metadata": {},
   "source": [
    "### 3) WAP in python that has a class Person storing name and date of birth of a person. The program should subtract the date of birth from today’s date to find out that the person is eligible to vote or not."
   ]
  },
  {
   "cell_type": "code",
   "execution_count": 10,
   "metadata": {},
   "outputs": [
    {
     "name": "stdout",
     "output_type": "stream",
     "text": [
      "Harshil is eligible to vote.\n"
     ]
    }
   ],
   "source": [
    "import datetime\n",
    "\n",
    "class Person:\n",
    "    def __init__(self, name, dob):\n",
    "        self.name = name\n",
    "        self.dob = dob\n",
    "\n",
    "    def calculate_age(self):\n",
    "        today = datetime.date.today()\n",
    "        age = today.year - self.dob.year - ((today.month, today.day) < (self.dob.month, self.dob.day))\n",
    "        return age\n",
    "\n",
    "    def check_voting_eligibility(self):\n",
    "        age = self.calculate_age()\n",
    "        if age >= 18:\n",
    "            return f\"{self.name} is eligible to vote.\"\n",
    "        else:\n",
    "            return f\"{self.name} is not eligible to vote.\"\n",
    "\n",
    "# Get the name and date of birth from user\n",
    "name = input(\"Enter the name: \")\n",
    "dob_str = input(\"Enter the date of birth (YYYY-MM-DD): \")\n",
    "dob = datetime.datetime.strptime(dob_str, \"%Y-%m-%d\").date()\n",
    "\n",
    "# Create a person object\n",
    "person = Person(name, dob)\n",
    "\n",
    "# Check voting eligibility and print the result\n",
    "result = person.check_voting_eligibility()\n",
    "print(result)\n"
   ]
  },
  {
   "cell_type": "markdown",
   "metadata": {},
   "source": [
    "### 4)WAP in python that has a class Circle. Use a class variable that defines the value of constant Pie value=3.14. Use this class variable to calculate the area and circumference of the circle with specified radius"
   ]
  },
  {
   "cell_type": "code",
   "execution_count": 11,
   "metadata": {},
   "outputs": [
    {
     "name": "stdout",
     "output_type": "stream",
     "text": [
      "Area of the circle: 1519.76\n",
      "Circumference of the circle: 138.16\n"
     ]
    }
   ],
   "source": [
    "class Circle:\n",
    "    PI = 3.14\n",
    "\n",
    "    def __init__(self, radius):\n",
    "        self.radius = radius\n",
    "\n",
    "    def calculate_area(self):\n",
    "        return Circle.PI * self.radius ** 2\n",
    "\n",
    "    def calculate_circumference(self):\n",
    "        return 2 * Circle.PI * self.radius\n",
    "\n",
    "# Create a circle object with a specified radius\n",
    "radius = float(input(\"Enter the radius of the circle: \"))\n",
    "circle = Circle(radius)\n",
    "\n",
    "# Calculate and display the area and circumference\n",
    "area = circle.calculate_area()\n",
    "circumference = circle.calculate_circumference()\n",
    "\n",
    "print(f\"Area of the circle: {area}\")\n",
    "print(f\"Circumference of the circle: {circumference}\")\\"
   ]
  },
  {
   "cell_type": "markdown",
   "metadata": {},
   "source": [
    "### 5) WAP in python that has a class Student that stores the name ,roll no, marks(in three subjects). And display the information(name, roll no, total marks) stored about the students."
   ]
  },
  {
   "cell_type": "code",
   "execution_count": 12,
   "metadata": {},
   "outputs": [
    {
     "name": "stdout",
     "output_type": "stream",
     "text": [
      "Name: Harshil\n",
      "Roll No: 2105889\n",
      "Total Marks: 297.0\n",
      "Name: Eshita\n",
      "Roll No: 2105962999\n",
      "Total Marks: 300.0\n"
     ]
    }
   ],
   "source": [
    "class Student:\n",
    "    def __init__(self, name, roll_no):\n",
    "        self.name = name\n",
    "        self.roll_no = roll_no\n",
    "        self.marks = []\n",
    "\n",
    "    def add_marks(self, subject, marks):\n",
    "        self.marks.append((subject, marks))\n",
    "\n",
    "    def calculate_total_marks(self):\n",
    "        total_marks = sum(marks for _, marks in self.marks)\n",
    "        return total_marks\n",
    "\n",
    "    def display_information(self):\n",
    "        print(f\"Name: {self.name}\")\n",
    "        print(f\"Roll No: {self.roll_no}\")\n",
    "        print(f\"Total Marks: {self.calculate_total_marks()}\")\n",
    "\n",
    "# Create a list to store student objects\n",
    "students = []\n",
    "\n",
    "# Get the number of students from user\n",
    "num_students = int(input(\"Enter the number of students: \"))\n",
    "\n",
    "# Get the details of each student from user\n",
    "for i in range(num_students):\n",
    "    name = input(f\"Enter the name of student {i+1}: \")\n",
    "    roll_no = input(f\"Enter the roll number of student {i+1}: \")\n",
    "    student = Student(name, roll_no)\n",
    "\n",
    "    # Get the marks for three subjects from user\n",
    "    for subject in ['Subject 1', 'Subject 2', 'Subject 3']:\n",
    "        marks = float(input(f\"Enter the marks for {subject}: \"))\n",
    "        student.add_marks(subject, marks)\n",
    "\n",
    "    students.append(student)\n",
    "\n",
    "# Display the information of all students\n",
    "for student in students:\n",
    "    student.display_information()\n"
   ]
  },
  {
   "cell_type": "markdown",
   "metadata": {},
   "source": [
    "### 6) WAP in python that has a class Rectangle with attribute length and breadth and a method area that returns the area of the circle."
   ]
  },
  {
   "cell_type": "code",
   "execution_count": 13,
   "metadata": {},
   "outputs": [
    {
     "name": "stdout",
     "output_type": "stream",
     "text": [
      "Area of the rectangle: 12.0\n"
     ]
    }
   ],
   "source": [
    "class Rectangle:\n",
    "    def __init__(self, length, breadth):\n",
    "        self.length = length\n",
    "        self.breadth = breadth\n",
    "\n",
    "    def area(self):\n",
    "        return self.length * self.breadth\n",
    "\n",
    "# Create a rectangle object with a specified length and breadth\n",
    "length = float(input(\"Enter the length of the rectangle: \"))\n",
    "breadth = float(input(\"Enter the breadth of the rectangle: \"))\n",
    "rectangle = Rectangle(length, breadth)\n",
    "\n",
    "# Calculate and display the area of the rectangle\n",
    "area = rectangle.area()\n",
    "print(f\"Area of the rectangle: {area}\")"
   ]
  },
  {
   "cell_type": "markdown",
   "metadata": {},
   "source": [
    "### 7) WAP in python that has a class Fraction with attributes numerator and denominator. Enter the values to the attributes and print the function in simplified forms."
   ]
  },
  {
   "cell_type": "code",
   "execution_count": 14,
   "metadata": {},
   "outputs": [
    {
     "name": "stdout",
     "output_type": "stream",
     "text": [
      "Simplified fraction: 3/4\n"
     ]
    }
   ],
   "source": [
    "class Fraction:\n",
    "    def __init__(self, numerator, denominator):\n",
    "        self.numerator = numerator\n",
    "        self.denominator = denominator\n",
    "\n",
    "    def simplify(self):\n",
    "        gcd = self.calculate_gcd(self.numerator, self.denominator)\n",
    "        simplified_numerator = self.numerator // gcd\n",
    "        simplified_denominator = self.denominator // gcd\n",
    "        return f\"{simplified_numerator}/{simplified_denominator}\"\n",
    "\n",
    "    def calculate_gcd(self, a, b):\n",
    "        while b:\n",
    "            a, b = b, a % b\n",
    "        return a\n",
    "\n",
    "# Get the numerator and denominator from user\n",
    "numerator = int(input(\"Enter the numerator: \"))\n",
    "denominator = int(input(\"Enter the denominator: \"))\n",
    "\n",
    "# Create a fraction object\n",
    "fraction = Fraction(numerator, denominator)\n",
    "\n",
    "# Simplify the fraction and print the result\n",
    "simplified_fraction = fraction.simplify()\n",
    "print(f\"Simplified fraction: {simplified_fraction}\")\n"
   ]
  },
  {
   "cell_type": "markdown",
   "metadata": {},
   "source": [
    "### 8) WAP in python that has an abstract class Polygon. Derive two classes Rectangle and Triangle from polygon and write methods to get the details of their dimensions and hence calculate the area."
   ]
  },
  {
   "cell_type": "code",
   "execution_count": 15,
   "metadata": {},
   "outputs": [
    {
     "name": "stdout",
     "output_type": "stream",
     "text": [
      "Area of the rectangle: 12.0\n",
      "Area of the triangle: 30.0\n"
     ]
    }
   ],
   "source": [
    "from abc import ABC, abstractmethod\n",
    "\n",
    "class Polygon(ABC):\n",
    "    @abstractmethod\n",
    "    def get_dimensions(self):\n",
    "        pass\n",
    "\n",
    "    @abstractmethod\n",
    "    def calculate_area(self):\n",
    "        pass\n",
    "\n",
    "class Rectangle(Polygon):\n",
    "    def get_dimensions(self):\n",
    "        length = float(input(\"Enter the length of the rectangle: \"))\n",
    "        breadth = float(input(\"Enter the breadth of the rectangle: \"))\n",
    "        return length, breadth\n",
    "\n",
    "    def calculate_area(self):\n",
    "        length, breadth = self.get_dimensions()\n",
    "        area = length * breadth\n",
    "        return area\n",
    "\n",
    "class Triangle(Polygon):\n",
    "    def get_dimensions(self):\n",
    "        base = float(input(\"Enter the base length of the triangle: \"))\n",
    "        height = float(input(\"Enter the height of the triangle: \"))\n",
    "        return base, height\n",
    "\n",
    "    def calculate_area(self):\n",
    "        base, height = self.get_dimensions()\n",
    "        area = 0.5 * base * height\n",
    "        return area\n",
    "\n",
    "# Create a rectangle object and calculate its area\n",
    "rectangle = Rectangle()\n",
    "rectangle_area = rectangle.calculate_area()\n",
    "print(f\"Area of the rectangle: {rectangle_area}\")\n",
    "\n",
    "# Create a triangle object and calculate its area\n",
    "triangle = Triangle()\n",
    "triangle_area = triangle.calculate_area()\n",
    "print(f\"Area of the triangle: {triangle_area}\")\n"
   ]
  },
  {
   "cell_type": "markdown",
   "metadata": {},
   "source": [
    "### 9) WAP in python with class Bill. The users have the option to pay the bill by card or by cash. Use the inheritance to model this situation."
   ]
  },
  {
   "cell_type": "code",
   "execution_count": 33,
   "metadata": {},
   "outputs": [
    {
     "name": "stdout",
     "output_type": "stream",
     "text": [
      "Payment method: Card\n",
      "Bill amount: 1000.0\n",
      "Bill Paid Successfully by the customer, Thank you for shopping with us!\n"
     ]
    }
   ],
   "source": [
    "# Get the payment method from user\n",
    "payment_method = input(\"Enter the payment method (card/cash): \")\n",
    "\n",
    "# Create a bill object based on the payment method\n",
    "if payment_method.lower() == \"card\":\n",
    "    bill = CardBill(amount)\n",
    "elif payment_method.lower() == \"cash\":\n",
    "    bill = CashBill(amount)\n",
    "else:\n",
    "    print(\"Invalid payment method entered.\")\n",
    "    bill = None\n",
    "\n",
    "# Get the bill amount from user\n",
    "amount = float(input(\"Enter the bill amount: \"))\n",
    "\n",
    "# Display the payment method and bill amount\n",
    "if bill:\n",
    "    bill.display_payment_method()\n",
    "    print(f\"Bill amount: {bill.amount}\")\n",
    "    print(\"Bill Paid Successfully by the customer, Thank you for shopping with us!\")\n",
    "    \n",
    "class Bill:\n",
    "    def __init__(self, amount):\n",
    "        self.amount = amount\n",
    "\n",
    "    def display_payment_method(self):\n",
    "        pass\n",
    "\n",
    "class CardBill(Bill):\n",
    "    def display_payment_method(self):\n",
    "        print(\"Payment method: Card\")\n",
    "\n",
    "class CashBill(Bill):\n",
    "    def display_payment_method(self):\n",
    "        print(\"Payment method: Cash\")"
   ]
  },
  {
   "cell_type": "markdown",
   "metadata": {},
   "source": [
    "### 10) WAP in python has a class Person. Inherit a class Faculty from person which also have a class publications."
   ]
  },
  {
   "cell_type": "code",
   "execution_count": 34,
   "metadata": {},
   "outputs": [
    {
     "name": "stdout",
     "output_type": "stream",
     "text": [
      "Name: John Doe\n",
      "Department: Computer Science\n",
      "Publications:\n",
      "Publication 1\n",
      "Publication 2\n"
     ]
    }
   ],
   "source": [
    "class Person:\n",
    "    def __init__(self, name):\n",
    "        self.name = name\n",
    "\n",
    "    def display_info(self):\n",
    "        print(f\"Name: {self.name}\")\n",
    "\n",
    "class Faculty(Person):\n",
    "    def __init__(self, name, department):\n",
    "        super().__init__(name)\n",
    "        self.department = department\n",
    "\n",
    "    def display_info(self):\n",
    "        super().display_info()\n",
    "        print(f\"Department: {self.department}\")\n",
    "\n",
    "class Publications:\n",
    "    def __init__(self, publications):\n",
    "        self.publications = publications\n",
    "\n",
    "    def display_publications(self):\n",
    "        print(\"Publications:\")\n",
    "        for publication in self.publications:\n",
    "            print(publication)\n",
    "\n",
    "class FacultyWithPublications(Faculty, Publications):\n",
    "    def __init__(self, name, department, publications):\n",
    "        Faculty.__init__(self, name, department)\n",
    "        Publications.__init__(self, publications)\n",
    "\n",
    "    def display_info(self):\n",
    "        super().display_info()\n",
    "        super().display_publications()\n",
    "\n",
    "# Create a faculty object with publications\n",
    "faculty = FacultyWithPublications(\"John Doe\", \"Computer Science\", [\"Publication 1\", \"Publication 2\"])\n",
    "\n",
    "# Display the faculty information and publications\n",
    "faculty.display_info()"
   ]
  }
 ],
 "metadata": {
  "kernelspec": {
   "display_name": "base",
   "language": "python",
   "name": "python3"
  },
  "language_info": {
   "codemirror_mode": {
    "name": "ipython",
    "version": 3
   },
   "file_extension": ".py",
   "mimetype": "text/x-python",
   "name": "python",
   "nbconvert_exporter": "python",
   "pygments_lexer": "ipython3",
   "version": "3.11.5"
  }
 },
 "nbformat": 4,
 "nbformat_minor": 2
}
