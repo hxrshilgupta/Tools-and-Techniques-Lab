{
 "cells": [
  {
   "cell_type": "markdown",
   "metadata": {},
   "source": [
    "# LAB 6 Assignment"
   ]
  },
  {
   "cell_type": "markdown",
   "metadata": {},
   "source": [
    "### 1. Reverse the columns of 2d-array."
   ]
  },
  {
   "cell_type": "code",
   "execution_count": 26,
   "metadata": {},
   "outputs": [
    {
     "name": "stdout",
     "output_type": "stream",
     "text": [
      "[[3 2 1]\n",
      " [6 5 4]\n",
      " [9 8 7]]\n"
     ]
    }
   ],
   "source": [
    "import numpy as np\n",
    "# Create a 2D array\n",
    "arr = np.array([[1, 2, 3],\n",
    "                [4, 5, 6],\n",
    "                [7, 8, 9]])\n",
    "\n",
    "# Reverse the columns\n",
    "reversed_arr = np.flip(arr, axis=1)\n",
    "\n",
    "print(reversed_arr)"
   ]
  },
  {
   "cell_type": "markdown",
   "metadata": {},
   "source": [
    "### 2. Create a 2d-array containing random floats between 5 and 10"
   ]
  },
  {
   "cell_type": "code",
   "execution_count": 27,
   "metadata": {},
   "outputs": [
    {
     "name": "stdout",
     "output_type": "stream",
     "text": [
      "[[7.78685857 5.21227678 8.06400359]\n",
      " [7.64024059 7.43540211 5.70082165]\n",
      " [5.9197782  7.24431083 9.92569624]]\n"
     ]
    }
   ],
   "source": [
    "import numpy as np\n",
    "\n",
    "# Create a 2D array of shape (3, 3) with random floats between 5 and 10\n",
    "random_arr = np.random.uniform(5, 10, size=(3, 3))\n",
    "\n",
    "print(random_arr)\n"
   ]
  },
  {
   "cell_type": "markdown",
   "metadata": {},
   "source": [
    "### 3. Find the percentile scores of a numpy array"
   ]
  },
  {
   "cell_type": "code",
   "execution_count": 28,
   "metadata": {},
   "outputs": [
    {
     "name": "stdout",
     "output_type": "stream",
     "text": [
      "[1.24 1.4  1.56]\n"
     ]
    }
   ],
   "source": [
    "percentiles = np.percentile(arr, [3, 5, 7])\n",
    "print(percentiles)\n"
   ]
  },
  {
   "cell_type": "markdown",
   "metadata": {},
   "source": [
    "### 4. Find the position of a missing value in a numpy array"
   ]
  },
  {
   "cell_type": "code",
   "execution_count": 29,
   "metadata": {},
   "outputs": [
    {
     "name": "stdout",
     "output_type": "stream",
     "text": [
      "Original array:\n",
      "[[ 3.  2. nan  1.]\n",
      " [10. 12. 10.  9.]\n",
      " [ 5. nan  1. nan]]\n",
      "\n",
      "Find the missing data of the said array:\n",
      "[[False False  True False]\n",
      " [False False False False]\n",
      " [False  True False  True]]\n"
     ]
    }
   ],
   "source": [
    "# Importing the NumPy library with an alias 'np'\n",
    "import numpy as np\n",
    " \n",
    "# Creating a NumPy array 'nums' with provided values, including NaN (Not a Number)\n",
    "nums = np.array([[3, 2, np.nan, 1],\n",
    "                 [10, 12, 10, 9],\n",
    "                 [5, np.nan, 1, np.nan]])\n",
    "# Printing a message indicating the original array 'nums'\n",
    "print(\"Original array:\")\n",
    "print(nums)\n",
    "# Printing a message indicating finding the missing data (NaN) in the array using np.isnan()\n",
    "# This function returns a boolean array of the same shape as 'nums', where True represents NaN values\n",
    "print(\"\\nFind the missing data of the said array:\")\n",
    "print(np.isnan(nums)) "
   ]
  },
  {
   "cell_type": "markdown",
   "metadata": {},
   "source": [
    "### 5. Sort a 2d-array by column."
   ]
  },
  {
   "cell_type": "code",
   "execution_count": 30,
   "metadata": {},
   "outputs": [
    {
     "name": "stdout",
     "output_type": "stream",
     "text": [
      "[[7 8 9]\n",
      " [4 5 6]\n",
      " [1 2 3]]\n"
     ]
    }
   ],
   "source": [
    "import numpy as np\n",
    "\n",
    "# Create a 2D array\n",
    "arr = np.array([[9, 8, 7],\n",
    "                [6, 5, 4],\n",
    "                [3, 2, 1]])\n",
    "\n",
    "# Sort the array by column\n",
    "sorted_arr = arr[:, np.argsort(arr[0])]\n",
    "print(sorted_arr)\n"
   ]
  },
  {
   "cell_type": "markdown",
   "metadata": {},
   "source": [
    "### 6. Find the most frequent value in a numpy array"
   ]
  },
  {
   "cell_type": "code",
   "execution_count": 31,
   "metadata": {},
   "outputs": [
    {
     "name": "stdout",
     "output_type": "stream",
     "text": [
      "3\n"
     ]
    }
   ],
   "source": [
    "import numpy as np\n",
    "\n",
    "# Create a numpy array of single dimension\n",
    "single_dim_arr = np.array([1, 2, 3, 2, 1, 2, 3, 3, 3])\n",
    "\n",
    "# Find the most frequent value in the numpy array\n",
    "most_frequent_value = np.argmax(np.bincount(single_dim_arr))\n",
    "\n",
    "print(most_frequent_value)\n"
   ]
  },
  {
   "cell_type": "markdown",
   "metadata": {},
   "source": [
    "### 7. Convert an array of arrays into a flat 1-d array"
   ]
  },
  {
   "cell_type": "code",
   "execution_count": 32,
   "metadata": {},
   "outputs": [
    {
     "name": "stdout",
     "output_type": "stream",
     "text": [
      "[1 2 3 4 5 6 7 8 9]\n"
     ]
    }
   ],
   "source": [
    "import numpy as np\n",
    "\n",
    "# Create an array of arrays\n",
    "array_of_arrays = np.array([[1, 2, 3], [4, 5, 6], [7, 8, 9]])\n",
    "\n",
    "# Convert the array of arrays into a flat 1-d array\n",
    "flat_array = array_of_arrays.flatten()\n",
    "\n",
    "print(flat_array)\n"
   ]
  },
  {
   "cell_type": "markdown",
   "metadata": {},
   "source": [
    "### 8. Consider the numerical data set to perform some statistical and mathematical operations like mean, median, mode, standard deviation, eculidaian distance, manhatton distance etc using numpy library"
   ]
  },
  {
   "cell_type": "code",
   "execution_count": 33,
   "metadata": {},
   "outputs": [
    {
     "name": "stdout",
     "output_type": "stream",
     "text": [
      "Mean: 5.15\n",
      "Median: 4.0\n",
      "Mode: ModeResult(mode=4, count=4)\n",
      "Standard Deviation: 3.2446109165815242\n",
      "Euclidean Distance: 1.0\n",
      "Manhattan Distance: 1\n"
     ]
    }
   ],
   "source": [
    "import numpy as np\n",
    "import scipy.stats as sp\n",
    "# Consider a numerical dataset as a numpy array\n",
    "data = np.array([1,2,3,4,5,6,7,8,9,10,11,12,1,2,3,4,4,4,2,5])\n",
    "\n",
    "# Calculate the mean of the dataset\n",
    "mean = np.mean(data)\n",
    "\n",
    "# Calculate the median of the dataset\n",
    "median = np.median(data)\n",
    "\n",
    "# Calculate the mode of the dataset\n",
    "mode = sp.mode(data)\n",
    "\n",
    "# Calculate the standard deviation of the dataset\n",
    "std_dev = np.std(data)\n",
    "\n",
    "# Calculate the Euclidean distance between two points in the dataset\n",
    "point1 = data[0]\n",
    "point2 = data[1]\n",
    "euclidean_distance = np.linalg.norm(point1 - point2)\n",
    "\n",
    "# Calculate the Manhattan distance between two points in the dataset\n",
    "manhattan_distance = np.sum(np.abs(point1 - point2))\n",
    "\n",
    "# Print the results\n",
    "print(\"Mean:\", mean)\n",
    "print(\"Median:\", median)\n",
    "print(\"Mode:\", mode)\n",
    "print(\"Standard Deviation:\", std_dev)\n",
    "print(\"Euclidean Distance:\", euclidean_distance)\n",
    "print(\"Manhattan Distance:\", manhattan_distance)\n"
   ]
  }
 ],
 "metadata": {
  "kernelspec": {
   "display_name": "base",
   "language": "python",
   "name": "python3"
  },
  "language_info": {
   "codemirror_mode": {
    "name": "ipython",
    "version": 3
   },
   "file_extension": ".py",
   "mimetype": "text/x-python",
   "name": "python",
   "nbconvert_exporter": "python",
   "pygments_lexer": "ipython3",
   "version": "3.11.5"
  }
 },
 "nbformat": 4,
 "nbformat_minor": 2
}
