{
 "cells": [
  {
   "cell_type": "markdown",
   "id": "e2439c35",
   "metadata": {},
   "source": [
    "# Example Questions"
   ]
  },
  {
   "cell_type": "code",
   "execution_count": 1,
   "id": "458fd1e6",
   "metadata": {},
   "outputs": [
    {
     "name": "stdout",
     "output_type": "stream",
     "text": [
      "10 is less than 20\n",
      "End of program\n"
     ]
    }
   ],
   "source": [
    "if 10<20:\n",
    "    print('10 is less than 20')\n",
    "print('End of program')"
   ]
  },
  {
   "cell_type": "code",
   "execution_count": 2,
   "id": "9f07da79",
   "metadata": {},
   "outputs": [
    {
     "ename": "IndentationError",
     "evalue": "expected an indented block after 'if' statement on line 1 (3321697364.py, line 2)",
     "output_type": "error",
     "traceback": [
      "\u001b[1;36m  Cell \u001b[1;32mIn[2], line 2\u001b[1;36m\u001b[0m\n\u001b[1;33m    print('10 is less than 20')\u001b[0m\n\u001b[1;37m    ^\u001b[0m\n\u001b[1;31mIndentationError\u001b[0m\u001b[1;31m:\u001b[0m expected an indented block after 'if' statement on line 1\n"
     ]
    }
   ],
   "source": [
    "if 10<20:\n",
    "print('10 is less than 20')\n",
    "print('End of program')"
   ]
  },
  {
   "cell_type": "code",
   "execution_count": 3,
   "id": "9b826d0f",
   "metadata": {},
   "outputs": [
    {
     "name": "stdout",
     "output_type": "stream",
     "text": [
      "Enter name:Karthi\n",
      "Hello Karthi Good Morning\n",
      "How are you!!!\n"
     ]
    }
   ],
   "source": [
    "name=input(\"Enter name:\")\n",
    "if name==\"Karthi\":\n",
    "    print(\"Hello Karthi Good Morning\")\n",
    "print(\"How are you!!!\")"
   ]
  },
  {
   "cell_type": "code",
   "execution_count": 4,
   "id": "3bd9c686",
   "metadata": {},
   "outputs": [
    {
     "name": "stdout",
     "output_type": "stream",
     "text": [
      "Enter name:Ravi\n",
      "How are you!!!\n"
     ]
    }
   ],
   "source": [
    "name=input(\"Enter name:\")\n",
    "if name==\"Karthi\":\n",
    "    print(\"Hello Karthi Good Morning\")\n",
    "print(\"How are you!!!\")"
   ]
  },
  {
   "cell_type": "code",
   "execution_count": 5,
   "id": "7ba1d7fb",
   "metadata": {},
   "outputs": [
    {
     "name": "stdout",
     "output_type": "stream",
     "text": [
      "Enter Name: Karthi\n",
      "Hello Karthi! Good Morning\n",
      "How are you?\n"
     ]
    }
   ],
   "source": [
    "name=input('Enter Name: ')\n",
    "if name == 'Karthi':\n",
    "    print('Hello Karthi! Good Morning')\n",
    "else:\n",
    "    print('Hello Guest! Good Morning')\n",
    "print('How are you?')"
   ]
  },
  {
   "cell_type": "markdown",
   "id": "3c47adfc",
   "metadata": {},
   "source": [
    "# Lab 2 Assignment Questions Begin⤵️"
   ]
  },
  {
   "cell_type": "markdown",
   "id": "bcdbaea3",
   "metadata": {},
   "source": [
    "#### Q 1. Write a program to find biggest of given 2 numbers"
   ]
  },
  {
   "cell_type": "code",
   "execution_count": 6,
   "id": "4b1e0cf2",
   "metadata": {},
   "outputs": [
    {
     "name": "stdout",
     "output_type": "stream",
     "text": [
      "Enter the first number: 1\n",
      "Enter the second number: 4\n",
      "The bigger number is: 4.0\n"
     ]
    }
   ],
   "source": [
    "num1 = float(input(\"Enter the first number: \"))\n",
    "num2 = float(input(\"Enter the second number: \"))\n",
    "\n",
    "if num1 > num2:\n",
    "    bigger_num = num1\n",
    "else:\n",
    "    bigger_num = num2\n",
    "\n",
    "# Print the result\n",
    "print(\"The bigger number is:\", bigger_num)"
   ]
  },
  {
   "cell_type": "markdown",
   "id": "ca343a6b",
   "metadata": {},
   "source": [
    "#### Q 2. Write a program to find biggest of given 3 numbers"
   ]
  },
  {
   "cell_type": "code",
   "execution_count": 17,
   "id": "3cd0fd36",
   "metadata": {},
   "outputs": [
    {
     "name": "stdout",
     "output_type": "stream",
     "text": [
      "Enter the first number: 2\n",
      "Enter the second number: 1\n",
      "Enter the third number: 3\n",
      "The bigger number is: 3.0\n"
     ]
    }
   ],
   "source": [
    "num1 = float(input(\"Enter the first number: \"))\n",
    "num2 = float(input(\"Enter the second number: \"))\n",
    "num3 = float(input(\"Enter the third number: \"))\n",
    "if num1 >= num2 and num1 >= num3:\n",
    "    bigger_num =  num1\n",
    "elif num2 >= num1 and num2 >= num3:\n",
    "    bigger_num =  num2\n",
    "else:\n",
    "    bigger_num =  num3\n",
    "\n",
    "#Print the result\n",
    "print(\"The bigger number is:\", bigger_num)"
   ]
  },
  {
   "cell_type": "markdown",
   "id": "127591b9",
   "metadata": {},
   "source": [
    "#### Q 3. Write a program to find the smallest of given 3 numbers"
   ]
  },
  {
   "cell_type": "code",
   "execution_count": 25,
   "id": "fc28f9df",
   "metadata": {},
   "outputs": [
    {
     "name": "stdout",
     "output_type": "stream",
     "text": [
      "Enter the first number: 1\n",
      "Enter the second number: 2\n",
      "Enter the third number: 3\n",
      "The Smallest number is: 1.0\n"
     ]
    }
   ],
   "source": [
    "num1 = float(input(\"Enter the first number: \"))\n",
    "num2 = float(input(\"Enter the second number: \"))\n",
    "num3 = float(input(\"Enter the third number: \"))\n",
    "if num1 <= num2 and num1 <= num3:\n",
    "    smallest_num =  num1\n",
    "elif num2 <= num1 and num2 <= num3:\n",
    "    smallest_num =  num2\n",
    "else:\n",
    "    smallest_num =  num3\n",
    "\n",
    "#Print the result\n",
    "print(\"The Smallest number is:\", smallest_num)"
   ]
  },
  {
   "cell_type": "markdown",
   "id": "e02bd596",
   "metadata": {},
   "source": [
    "#### Q4.Write a program to check whether the given number is even or odd."
   ]
  },
  {
   "cell_type": "code",
   "execution_count": 30,
   "id": "69994a89",
   "metadata": {},
   "outputs": [
    {
     "name": "stdout",
     "output_type": "stream",
     "text": [
      "Enter a number: 2\n",
      "The number is even\n"
     ]
    }
   ],
   "source": [
    "\n",
    "num = int(input(\"Enter a number: \"))\n",
    "\n",
    "# Check if the number is even or odd\n",
    "if num % 2 == 0:\n",
    "    print(\"The number is even\")\n",
    "else:\n",
    "    print(\"The number is odd\")"
   ]
  },
  {
   "cell_type": "markdown",
   "id": "6e61ee83",
   "metadata": {},
   "source": [
    "#### Q5.Write a program to check whether the given number is in between 1 and 100."
   ]
  },
  {
   "cell_type": "code",
   "execution_count": 35,
   "id": "c887d9c1",
   "metadata": {},
   "outputs": [
    {
     "name": "stdout",
     "output_type": "stream",
     "text": [
      "Enter a number: 3\n",
      "Number 3 lies between 1 and 100\n"
     ]
    }
   ],
   "source": [
    "num = int(input(\"Enter a number: \"))\n",
    "\n",
    "#Check if the numnber lies between 1 and 100\n",
    "\n",
    "if num>1 and num<100:\n",
    "    print(\"Number\", num, \"lies between 1 and 100\")\n",
    "else:\n",
    "    print(\"Does not lie between 1 and 100\")"
   ]
  },
  {
   "cell_type": "markdown",
   "id": "1a631939",
   "metadata": {},
   "source": [
    "#### Q6 Write a program to take a single digit number from the key board and print it's value in English word."
   ]
  },
  {
   "cell_type": "code",
   "execution_count": 8,
   "id": "70776e0f",
   "metadata": {},
   "outputs": [
    {
     "name": "stdout",
     "output_type": "stream",
     "text": [
      "Enter a single digit number: 3\n",
      "Three\n"
     ]
    }
   ],
   "source": [
    "def num_to_word(num):\n",
    "    words = {\n",
    "        0: \"Zero\",\n",
    "        1: \"One\",\n",
    "        2: \"Two\",\n",
    "        3: \"Three\",\n",
    "        4: \"Four\",\n",
    "        5: \"Five\",\n",
    "        6: \"Six\",\n",
    "        7: \"Seven\",\n",
    "        8: \"Eight\",\n",
    "        9: \"Nine\"\n",
    "    }\n",
    "    return words.get(num, \"Invalid input\")  # Handle invalid input gracefully\n",
    "\n",
    "while True:\n",
    "    try:\n",
    "        num = int(input(\"Enter a single digit number: \"))\n",
    "        if 0 <= num <= 9:\n",
    "            break\n",
    "        else:\n",
    "            print(\"Please enter a single digit number (0-9).\")\n",
    "    except ValueError:\n",
    "        print(\"Invalid input. Please enter a number.\")\n",
    "\n",
    "# Print the word equivalent\n",
    "print(num_to_word(num))"
   ]
  },
  {
   "cell_type": "markdown",
   "id": "82a90a29",
   "metadata": {},
   "source": [
    "#### Q7 WAP to check whether a year is a leap year."
   ]
  },
  {
   "cell_type": "code",
   "execution_count": 9,
   "id": "ae043aae",
   "metadata": {},
   "outputs": [
    {
     "name": "stdout",
     "output_type": "stream",
     "text": [
      "Enter a year: 2020\n",
      "2020 is a leap year.\n"
     ]
    }
   ],
   "source": [
    "def is_leap_year(year):\n",
    "\n",
    "    if year % 400 == 0:  # Divisible by 400 (special case for century years)\n",
    "        return True\n",
    "    elif year % 100 == 0:  # Divisible by 100 (not a leap year unless also divisible by 400)\n",
    "        return False\n",
    "    else:  # Divisible by 4 but not by 100\n",
    "        return year % 4 == 0\n",
    "\n",
    "# Get year input from the user\n",
    "year = int(input(\"Enter a year: \"))\n",
    "\n",
    "# Check if the year is a leap year\n",
    "if is_leap_year(year):\n",
    "    print(f\"{year} is a leap year.\")\n",
    "else:\n",
    "    print(f\"{year} is not a leap year.\")"
   ]
  },
  {
   "cell_type": "markdown",
   "id": "ac7f09e2",
   "metadata": {},
   "source": [
    "#### Q8.WAP to convert a word entered in lower case to upper case."
   ]
  },
  {
   "cell_type": "code",
   "execution_count": 11,
   "id": "17e13a86",
   "metadata": {},
   "outputs": [
    {
     "name": "stdout",
     "output_type": "stream",
     "text": [
      "Hello\n",
      "HELLO\n"
     ]
    }
   ],
   "source": [
    "word = input().upper()\n",
    "print(word)"
   ]
  },
  {
   "cell_type": "markdown",
   "id": "61de3954",
   "metadata": {},
   "source": [
    "#### Q9. WAP to accept a percentage from user and display the grade according to the following criteria: (as per question)"
   ]
  },
  {
   "cell_type": "code",
   "execution_count": 15,
   "id": "64cf760c",
   "metadata": {},
   "outputs": [
    {
     "name": "stdout",
     "output_type": "stream",
     "text": [
      "Enter your percentage: 92\n",
      "Your grade is: A\n"
     ]
    }
   ],
   "source": [
    "percentage = float(input(\"Enter your percentage: \"))\n",
    "\n",
    "if percentage > 90:\n",
    "    grade = \"A\"\n",
    "elif percentage >= 80:\n",
    "    grade = \"B\"\n",
    "elif percentage >= 60:\n",
    "    grade = \"C\"\n",
    "else:\n",
    "    grade = \"D\"\n",
    "\n",
    "print(f\"Your grade is: {grade}\")\n"
   ]
  },
  {
   "cell_type": "markdown",
   "id": "c533104e",
   "metadata": {},
   "source": [
    "#### Q10. WAP to accept the cost price of a bike and display the road tax to be paid according to the following criteria: (as per question)"
   ]
  },
  {
   "cell_type": "code",
   "execution_count": 16,
   "id": "a27adf04",
   "metadata": {},
   "outputs": [
    {
     "name": "stdout",
     "output_type": "stream",
     "text": [
      "Enter the cost price of the bike: 50002\n",
      "The road tax to be paid is: Rs. 5000.20\n"
     ]
    }
   ],
   "source": [
    "cost_price = float(input(\"Enter the cost price of the bike: \"))\n",
    "\n",
    "if cost_price > 100000:\n",
    "    tax_rate = 0.15\n",
    "elif cost_price > 50000:\n",
    "    tax_rate = 0.1\n",
    "else:\n",
    "    tax_rate = 0.05\n",
    "\n",
    "road_tax = cost_price * tax_rate\n",
    "\n",
    "print(f\"The road tax to be paid is: Rs. {road_tax:.2f}\")"
   ]
  },
  {
   "cell_type": "markdown",
   "id": "72309841",
   "metadata": {},
   "source": [
    "#### Q11. WAP to check whether a number entered is three digit number or not"
   ]
  },
  {
   "cell_type": "code",
   "execution_count": 17,
   "id": "c33a65e0",
   "metadata": {},
   "outputs": [
    {
     "name": "stdout",
     "output_type": "stream",
     "text": [
      "Enter a number: 343\n",
      "The number is a three-digit number.\n"
     ]
    }
   ],
   "source": [
    "num = int(input(\"Enter a number: \"))\n",
    "\n",
    "if 100 <= num <= 999:\n",
    "    print(\"The number is a three-digit number.\")\n",
    "else:\n",
    "    print(\"The number is not a three-digit number.\")"
   ]
  },
  {
   "cell_type": "markdown",
   "id": "5475c90b",
   "metadata": {},
   "source": [
    "#### Q12.Write a program to accept a number from 1 to 12 and display the name of the month in days in that month like 1 for January and number of days 31 and so on"
   ]
  },
  {
   "cell_type": "code",
   "execution_count": 20,
   "id": "72cb0a24",
   "metadata": {},
   "outputs": [
    {
     "name": "stdout",
     "output_type": "stream",
     "text": [
      "Enter a month number (1-12): 4\n",
      "Month: April\n",
      "Number of days: 30\n"
     ]
    }
   ],
   "source": [
    "import calendar\n",
    "\n",
    "month_num = int(input(\"Enter a month number (1-12): \"))\n",
    "\n",
    "month_name = calendar.month_name[month_num]\n",
    "num_days = calendar.monthrange(2023, month_num)[1]  # Assuming a non-leap year\n",
    "\n",
    "print(f\"Month: {month_name}\")\n",
    "print(f\"Number of days: {num_days}\")"
   ]
  },
  {
   "cell_type": "markdown",
   "id": "64e090e2",
   "metadata": {},
   "source": [
    "## SET 2"
   ]
  },
  {
   "cell_type": "markdown",
   "id": "a32f028c",
   "metadata": {},
   "source": [
    "#### Q1. A company decided to give bonus of 5% to employee if his/her year of service is more than 5 years. Ask user for their salary and year of service and print net bonus amount."
   ]
  },
  {
   "cell_type": "code",
   "execution_count": 21,
   "id": "c16a3b61",
   "metadata": {},
   "outputs": [
    {
     "name": "stdout",
     "output_type": "stream",
     "text": [
      "Enter your salary: 40503\n",
      "Enter your years of service: 6\n",
      "Your bonus is: 2025.15\n"
     ]
    }
   ],
   "source": [
    "salary = float(input(\"Enter your salary: \"))\n",
    "years_of_service = int(input(\"Enter your years of service: \"))\n",
    "\n",
    "# Calculate bonus\n",
    "if years_of_service > 5:\n",
    "    bonus = salary * 0.05\n",
    "else:\n",
    "    bonus = 0\n",
    "\n",
    "# Print result\n",
    "print(\"Your bonus is:\", bonus)"
   ]
  },
  {
   "cell_type": "markdown",
   "id": "ca0d14be",
   "metadata": {},
   "source": [
    "#### Q2. Take values of length and breadth of a rectangle from user and check if it is a square or not"
   ]
  },
  {
   "cell_type": "code",
   "execution_count": 23,
   "id": "09bd773a",
   "metadata": {},
   "outputs": [
    {
     "name": "stdout",
     "output_type": "stream",
     "text": [
      "Enter Length: 4\n",
      "Enter Breadth: 5\n",
      "Not a square\n"
     ]
    }
   ],
   "source": [
    "length = int(input(\"Enter Length: \"))\n",
    "breadth = int(input(\"Enter Breadth: \"))\n",
    "\n",
    "if length == breadth:\n",
    "    print(\"The rectangle is a square.\")\n",
    "else:\n",
    "    print(\"Not a square\")"
   ]
  },
  {
   "cell_type": "markdown",
   "id": "61f141f0",
   "metadata": {},
   "source": [
    "#### Q3. A shop will give discount of 10% if the cost of purchased quantity is more than 1000. Ask for quantity. Suppose one unit will cost 100. Judge and print total cost for user."
   ]
  },
  {
   "cell_type": "code",
   "execution_count": 25,
   "id": "831e3246",
   "metadata": {},
   "outputs": [
    {
     "name": "stdout",
     "output_type": "stream",
     "text": [
      "Enter the quantity: 45\n",
      "Total cost: 4050.0\n"
     ]
    }
   ],
   "source": [
    "quantity = int(input(\"Enter the quantity: \"))\n",
    "unit_cost = 100\n",
    "total_cost = quantity * unit_cost\n",
    "\n",
    "if total_cost > 1000:\n",
    "    discount = total_cost * 0.1\n",
    "    total_cost -= discount\n",
    "\n",
    "print(\"Total cost:\", total_cost)\n"
   ]
  }
 ],
 "metadata": {
  "kernelspec": {
   "display_name": "Python 3 (ipykernel)",
   "language": "python",
   "name": "python3"
  },
  "language_info": {
   "codemirror_mode": {
    "name": "ipython",
    "version": 3
   },
   "file_extension": ".py",
   "mimetype": "text/x-python",
   "name": "python",
   "nbconvert_exporter": "python",
   "pygments_lexer": "ipython3",
   "version": "3.11.5"
  }
 },
 "nbformat": 4,
 "nbformat_minor": 5
}
